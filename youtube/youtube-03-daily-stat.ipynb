{
 "cells": [
  {
   "cell_type": "code",
   "execution_count": 1,
   "metadata": {
    "collapsed": true,
    "ExecuteTime": {
     "end_time": "2023-05-24T19:17:21.096084Z",
     "start_time": "2023-05-24T19:17:20.852419Z"
    }
   },
   "outputs": [],
   "source": [
    "import sqlite3\n",
    "import pandas as pd"
   ]
  },
  {
   "cell_type": "code",
   "execution_count": 2,
   "outputs": [],
   "source": [
    "con = sqlite3.connect('data.db')"
   ],
   "metadata": {
    "collapsed": false,
    "ExecuteTime": {
     "end_time": "2023-05-24T19:17:21.113527Z",
     "start_time": "2023-05-24T19:17:21.105860Z"
    }
   }
  },
  {
   "cell_type": "code",
   "execution_count": 5,
   "outputs": [],
   "source": [
    "sql = \"\"\"\n",
    "SELECT\n",
    "    channel_id, DATE(ts_utc) AS date, subscriberCount, viewCount, videoCount\n",
    "FROM youtube_channels_daily\n",
    "ORDER BY channel_id, date\n",
    "\"\"\""
   ],
   "metadata": {
    "collapsed": false,
    "ExecuteTime": {
     "end_time": "2023-05-24T19:24:38.467606Z",
     "start_time": "2023-05-24T19:24:38.461460Z"
    }
   }
  },
  {
   "cell_type": "code",
   "execution_count": 6,
   "outputs": [
    {
     "data": {
      "text/plain": "                     channel_id        date subscriberCount  viewCount   \n0      UC--47fBfeNHJ7jmpmAkjUdA  2023-05-23           16900    4016221  \\\n1      UC--47fBfeNHJ7jmpmAkjUdA  2023-05-24           16900    4016309   \n2      UC--E0W4JrmRy88txTErQYuw  2023-05-23           41700    4389495   \n3      UC--E0W4JrmRy88txTErQYuw  2023-05-24           41700    4390517   \n4      UC--QN7syH6Tj_9jVWhLshzQ  2023-05-23           29700    5916629   \n...                         ...         ...             ...        ...   \n59494  UCzzVUde44MyJgFhwRc1iiFA  2023-05-24          182000   67979805   \n59495  UCzzc7SLnY7tJRLHlNfRtjow  2023-05-23            5850     532646   \n59496  UCzzc7SLnY7tJRLHlNfRtjow  2023-05-24            5850     532655   \n59497  UCzzp8nUXv2_MdhH118KFUtQ  2023-05-23          365000  113304381   \n59498  UCzzp8nUXv2_MdhH118KFUtQ  2023-05-24          365000  113345164   \n\n      videoCount  \n0            245  \n1            245  \n2             28  \n3             28  \n4            223  \n...          ...  \n59494       1322  \n59495         16  \n59496         16  \n59497        532  \n59498        532  \n\n[59499 rows x 5 columns]",
      "text/html": "<div>\n<style scoped>\n    .dataframe tbody tr th:only-of-type {\n        vertical-align: middle;\n    }\n\n    .dataframe tbody tr th {\n        vertical-align: top;\n    }\n\n    .dataframe thead th {\n        text-align: right;\n    }\n</style>\n<table border=\"1\" class=\"dataframe\">\n  <thead>\n    <tr style=\"text-align: right;\">\n      <th></th>\n      <th>channel_id</th>\n      <th>date</th>\n      <th>subscriberCount</th>\n      <th>viewCount</th>\n      <th>videoCount</th>\n    </tr>\n  </thead>\n  <tbody>\n    <tr>\n      <th>0</th>\n      <td>UC--47fBfeNHJ7jmpmAkjUdA</td>\n      <td>2023-05-23</td>\n      <td>16900</td>\n      <td>4016221</td>\n      <td>245</td>\n    </tr>\n    <tr>\n      <th>1</th>\n      <td>UC--47fBfeNHJ7jmpmAkjUdA</td>\n      <td>2023-05-24</td>\n      <td>16900</td>\n      <td>4016309</td>\n      <td>245</td>\n    </tr>\n    <tr>\n      <th>2</th>\n      <td>UC--E0W4JrmRy88txTErQYuw</td>\n      <td>2023-05-23</td>\n      <td>41700</td>\n      <td>4389495</td>\n      <td>28</td>\n    </tr>\n    <tr>\n      <th>3</th>\n      <td>UC--E0W4JrmRy88txTErQYuw</td>\n      <td>2023-05-24</td>\n      <td>41700</td>\n      <td>4390517</td>\n      <td>28</td>\n    </tr>\n    <tr>\n      <th>4</th>\n      <td>UC--QN7syH6Tj_9jVWhLshzQ</td>\n      <td>2023-05-23</td>\n      <td>29700</td>\n      <td>5916629</td>\n      <td>223</td>\n    </tr>\n    <tr>\n      <th>...</th>\n      <td>...</td>\n      <td>...</td>\n      <td>...</td>\n      <td>...</td>\n      <td>...</td>\n    </tr>\n    <tr>\n      <th>59494</th>\n      <td>UCzzVUde44MyJgFhwRc1iiFA</td>\n      <td>2023-05-24</td>\n      <td>182000</td>\n      <td>67979805</td>\n      <td>1322</td>\n    </tr>\n    <tr>\n      <th>59495</th>\n      <td>UCzzc7SLnY7tJRLHlNfRtjow</td>\n      <td>2023-05-23</td>\n      <td>5850</td>\n      <td>532646</td>\n      <td>16</td>\n    </tr>\n    <tr>\n      <th>59496</th>\n      <td>UCzzc7SLnY7tJRLHlNfRtjow</td>\n      <td>2023-05-24</td>\n      <td>5850</td>\n      <td>532655</td>\n      <td>16</td>\n    </tr>\n    <tr>\n      <th>59497</th>\n      <td>UCzzp8nUXv2_MdhH118KFUtQ</td>\n      <td>2023-05-23</td>\n      <td>365000</td>\n      <td>113304381</td>\n      <td>532</td>\n    </tr>\n    <tr>\n      <th>59498</th>\n      <td>UCzzp8nUXv2_MdhH118KFUtQ</td>\n      <td>2023-05-24</td>\n      <td>365000</td>\n      <td>113345164</td>\n      <td>532</td>\n    </tr>\n  </tbody>\n</table>\n<p>59499 rows × 5 columns</p>\n</div>"
     },
     "execution_count": 6,
     "metadata": {},
     "output_type": "execute_result"
    }
   ],
   "source": [
    "pd.read_sql(con=con, sql=sql)"
   ],
   "metadata": {
    "collapsed": false,
    "ExecuteTime": {
     "end_time": "2023-05-24T19:24:39.020453Z",
     "start_time": "2023-05-24T19:24:38.901776Z"
    }
   }
  },
  {
   "cell_type": "code",
   "execution_count": null,
   "outputs": [],
   "source": [],
   "metadata": {
    "collapsed": false
   }
  }
 ],
 "metadata": {
  "kernelspec": {
   "display_name": "Python 3",
   "language": "python",
   "name": "python3"
  },
  "language_info": {
   "codemirror_mode": {
    "name": "ipython",
    "version": 2
   },
   "file_extension": ".py",
   "mimetype": "text/x-python",
   "name": "python",
   "nbconvert_exporter": "python",
   "pygments_lexer": "ipython2",
   "version": "2.7.6"
  }
 },
 "nbformat": 4,
 "nbformat_minor": 0
}
